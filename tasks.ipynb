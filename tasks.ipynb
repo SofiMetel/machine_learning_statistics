{
 "cells": [
  {
   "cell_type": "markdown",
   "metadata": {},
   "source": [
    "# Tasks\n",
    "\n",
    "Machine Learning and Statistics\n",
    "\n",
    "Winter 2023/2024\n",
    "\n",
    "Author: Sofiia Meteliuk\n"
   ]
  },
  {
   "cell_type": "markdown",
   "metadata": {},
   "source": [
    "## Task 1"
   ]
  },
  {
   "cell_type": "markdown",
   "metadata": {},
   "source": [
    "*Square roots are difficult to calculate. In Python, you typically\n",
    "use the power operator (a double asterisk) or a package such\n",
    "as `math`.*\n",
    "\n",
    "*In this task, you should write a function sqrt(x) to\n",
    "approximate the square root of a floating point number x without\n",
    "using the power operator or a package. Rather, you should use the Newton’s method.2 Start with an \n",
    "initial guess for the square root called z0. You then repeatedly\n",
    "improve it using the following formula, until the difference between some previous guess $z_i$ and the next $z_{i+1}$ is less than some threshold, say 0.01.*\n",
    "\n",
    "$$ z_{i+1} = z_i − \\frac {z_i × z_i − x}{2z_i}\n"
   ]
  },
  {
   "cell_type": "code",
   "execution_count": 10,
   "metadata": {},
   "outputs": [],
   "source": [
    "def sqrt(x, threshold=0.01, initial_guess=None):\n",
    "    # If no initial guess is provided, start with x/2\n",
    "    z0 = initial_guess if initial_guess is not None else x / 2.0\n",
    "    \n",
    "    while True:\n",
    "        # Newton's method formula\n",
    "        z1 = z0 - (z0 * z0 - x) / (2 * z0)\n",
    "        \n",
    "        # Check if the difference between consecutive guesses is less than the threshold\n",
    "        if abs(z1 - z0) < threshold:\n",
    "            return z1\n",
    "        \n",
    "        # Update the guess for the next iteration\n",
    "        z0 = z1\n",
    "\n"
   ]
  },
  {
   "cell_type": "code",
   "execution_count": 11,
   "metadata": {},
   "outputs": [
    {
     "name": "stdout",
     "output_type": "stream",
     "text": [
      "The square root of 25.0 is approximately 5.000000000016778\n"
     ]
    }
   ],
   "source": [
    "# Example usage\n",
    "x = 25.0\n",
    "result = sqrt(x)\n",
    "print(f\"The square root of {x} is approximately {result}\")\n"
   ]
  },
  {
   "cell_type": "code",
   "execution_count": 3,
   "metadata": {},
   "outputs": [
    {
     "name": "stdout",
     "output_type": "stream",
     "text": [
      "The square root of 16 is approximately 4.0000001858445895\n"
     ]
    }
   ],
   "source": [
    "# Example usage\n",
    "x = 16\n",
    "result = sqrt(x)\n",
    "print(f\"The square root of {x} is approximately {result}\")\n"
   ]
  },
  {
   "cell_type": "markdown",
   "metadata": {},
   "source": [
    "I think that for scientific purpose it`s better to leave answer like this but if we programmed calculator it will be not expected answer for user.\n",
    "In this version, I added an optional parameter *decimals* to the sqrt function, which specifies the number of decimal places to round the result. The round function is then used to round the result to the specified number of decimals."
   ]
  },
  {
   "cell_type": "code",
   "execution_count": 7,
   "metadata": {},
   "outputs": [],
   "source": [
    "def sqrt2(x, threshold=0.01, initial_guess=None, decimals=2):\n",
    "    # If no initial guess is provided, start with x/2\n",
    "    z0 = initial_guess if initial_guess is not None else x / 2.0\n",
    "    \n",
    "    while True:\n",
    "        # Newton's method formula\n",
    "        z1 = z0 - (z0 * z0 - x) / (2 * z0)\n",
    "        \n",
    "        # Check if the difference between consecutive guesses is less than the threshold\n",
    "        if abs(z1 - z0) < threshold:\n",
    "            # Round the result to the specified number of decimals\n",
    "            return round(z1, decimals)\n",
    "        \n",
    "        # Update the guess for the next iteration\n",
    "        z0 = z1\n"
   ]
  },
  {
   "cell_type": "code",
   "execution_count": 8,
   "metadata": {},
   "outputs": [
    {
     "name": "stdout",
     "output_type": "stream",
     "text": [
      "The square root of 25.0 is approximately 5.0\n"
     ]
    }
   ],
   "source": [
    "# Example usage\n",
    "x = 25.0\n",
    "result = sqrt2(x)\n",
    "print(f\"The square root of {x} is approximately {result}\")"
   ]
  }
 ],
 "metadata": {
  "kernelspec": {
   "display_name": "base",
   "language": "python",
   "name": "python3"
  },
  "language_info": {
   "codemirror_mode": {
    "name": "ipython",
    "version": 3
   },
   "file_extension": ".py",
   "mimetype": "text/x-python",
   "name": "python",
   "nbconvert_exporter": "python",
   "pygments_lexer": "ipython3",
   "version": "3.8.8"
  },
  "orig_nbformat": 4
 },
 "nbformat": 4,
 "nbformat_minor": 2
}
