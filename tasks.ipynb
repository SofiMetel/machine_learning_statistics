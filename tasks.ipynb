{
 "cells": [
  {
   "cell_type": "markdown",
   "metadata": {},
   "source": [
    "# Tasks\n",
    "\n",
    "Machine Learning and Statistics\n",
    "\n",
    "Winter 2023/2024\n",
    "\n",
    "Author: Sofiia Meteliuk\n"
   ]
  },
  {
   "cell_type": "markdown",
   "metadata": {},
   "source": [
    "## Task 1"
   ]
  },
  {
   "cell_type": "markdown",
   "metadata": {},
   "source": [
    "*Square roots are difficult to calculate. In Python, you typically\n",
    "use the power operator (a double asterisk) or a package such\n",
    "as `math`.*\n",
    "\n",
    "*In this task, you should write a function sqrt(x) to\n",
    "approximate the square root of a floating point number x without\n",
    "using the power operator or a package. Rather, you should use the Newton’s method.2 Start with an \n",
    "initial guess for the square root called z0. You then repeatedly\n",
    "improve it using the following formula, until the difference between some previous guess $z_i$ and the next $z_{i+1}$ is less than some threshold, say 0.01.*\n",
    "\n",
    "$$ z_{i+1} = z_i − \\frac {z_i × z_i − x}{2z_i}\n"
   ]
  },
  {
   "cell_type": "code",
   "execution_count": 1,
   "metadata": {},
   "outputs": [],
   "source": [
    "def sqrt(x, threshold=0.01, initial_guess=None):\n",
    "    # If no initial guess is provided, start with x/2\n",
    "    z0 = initial_guess if initial_guess is not None else x / 2.0\n",
    "    \n",
    "    while True:\n",
    "        # Newton's method formula\n",
    "        z1 = z0 - (z0 * z0 - x) / (2 * z0)\n",
    "        \n",
    "        # Check if the difference between consecutive guesses is less than the threshold\n",
    "        if abs(z1 - z0) < threshold:\n",
    "            return z1\n",
    "        \n",
    "        # Update the guess for the next iteration\n",
    "        z0 = z1\n",
    "\n"
   ]
  },
  {
   "cell_type": "code",
   "execution_count": 2,
   "metadata": {},
   "outputs": [
    {
     "name": "stdout",
     "output_type": "stream",
     "text": [
      "The square root of 25.0 is approximately 5.000000000016778\n"
     ]
    }
   ],
   "source": [
    "# Example usage\n",
    "x = 25.0\n",
    "result = sqrt(x)\n",
    "print(f\"The square root of {x} is approximately {result}\")\n"
   ]
  },
  {
   "cell_type": "code",
   "execution_count": 3,
   "metadata": {},
   "outputs": [
    {
     "name": "stdout",
     "output_type": "stream",
     "text": [
      "The square root of 16 is approximately 4.0000001858445895\n"
     ]
    }
   ],
   "source": [
    "# Example usage\n",
    "x = 16\n",
    "result = sqrt(x)\n",
    "print(f\"The square root of {x} is approximately {result}\")\n"
   ]
  },
  {
   "cell_type": "markdown",
   "metadata": {},
   "source": [
    "I think that for scientific purpose it`s better to leave answer like this 4.0000001858445895 but for example if we programmed calculator this answer would not satisfy user.\n",
    "In this version, I added an optional parameter *decimals* to the sqrt function, which specifies the number of decimal places to round the result. The round function is then used to round the result to the specified number of decimals."
   ]
  },
  {
   "cell_type": "code",
   "execution_count": 4,
   "metadata": {},
   "outputs": [],
   "source": [
    "def sqrt2(x, threshold=0.01, initial_guess=None, decimals=2):\n",
    "    # If no initial guess is provided, start with x/2\n",
    "    z0 = initial_guess if initial_guess is not None else x / 2.0\n",
    "    \n",
    "    while True:\n",
    "        # Newton's method formula\n",
    "        z1 = z0 - (z0 * z0 - x) / (2 * z0)\n",
    "        \n",
    "        # Check if the difference between consecutive guesses is less than the threshold\n",
    "        if abs(z1 - z0) < threshold:\n",
    "            # Round the result to the specified number of decimals\n",
    "            return round(z1, decimals)\n",
    "        \n",
    "        # Update the guess for the next iteration\n",
    "        z0 = z1\n"
   ]
  },
  {
   "cell_type": "code",
   "execution_count": 5,
   "metadata": {},
   "outputs": [
    {
     "name": "stdout",
     "output_type": "stream",
     "text": [
      "The square root of 25.0 is approximately 5.0\n"
     ]
    }
   ],
   "source": [
    "# Example usage\n",
    "x = 25.0\n",
    "result = sqrt2(x)\n",
    "print(f\"The square root of {x} is approximately {result}\")"
   ]
  },
  {
   "cell_type": "markdown",
   "metadata": {},
   "source": [
    "_____\n",
    "\n",
    "## TASK 2\n"
   ]
  },
  {
   "cell_type": "markdown",
   "metadata": {},
   "source": [
    "Consider the below contingency table based on a survey asking\n",
    "respondents whether they prefer coffee or tea and whether they\n",
    "prefer plain or chocolate biscuits. Use scipy.stats to perform\n",
    "a chi-squared test to see whether there is any evidence of an association between drink preference and biscuit preference in this\n",
    "instance"
   ]
  },
  {
   "cell_type": "markdown",
   "metadata": {},
   "source": [
    "|                | Chocolate | Plain |\n",
    "| -------------- | --------- | ----- |\n",
    "| **Coffee**     |    43     |   57  |\n",
    "| **Tea**        |    56     |   45  |\n"
   ]
  },
  {
   "cell_type": "code",
   "execution_count": 6,
   "metadata": {},
   "outputs": [
    {
     "name": "stdout",
     "output_type": "stream",
     "text": [
      "Chi-squared Statistic: 2.6359100836554257\n",
      "P-value: 0.10447218120907394\n",
      "There is no significant evidence of an association between drink preference and biscuit preference.\n"
     ]
    }
   ],
   "source": [
    "import numpy as np\n",
    "from scipy.stats import chi2_contingency\n",
    "\n",
    "# Contingency table\n",
    "observed_data = np.array([[43, 57],  # Coffee\n",
    "                          [56, 45]])  # Tea\n",
    "\n",
    "# Perform chi-squared test\n",
    "chi2_stat, p_value, _, _ = chi2_contingency(observed_data)\n",
    "\n",
    "# Output the results\n",
    "print(f\"Chi-squared Statistic: {chi2_stat}\")\n",
    "print(f\"P-value: {p_value}\")\n",
    "\n",
    "# Check for significance\n",
    "alpha = 0.05\n",
    "if p_value < alpha:\n",
    "    print(\"There is evidence of an association between drink preference and biscuit preference.\")\n",
    "else:\n",
    "    print(\"There is no significant evidence of an association between drink preference and biscuit preference.\")\n"
   ]
  },
  {
   "cell_type": "markdown",
   "metadata": {},
   "source": [
    "________________________________________"
   ]
  },
  {
   "cell_type": "markdown",
   "metadata": {},
   "source": [
    "## TASK 3"
   ]
  },
  {
   "cell_type": "markdown",
   "metadata": {},
   "source": [
    "Perform a t-test on the famous penguins data set to investigate whether there is evidence of a significant difference in the body\n",
    "mass of male and female gentoo penguins.\n",
    "\n",
    "Data repository for seaborn examples. https://github.com/mwaskom/seaborn-data/blob/master/penguins.csv\n"
   ]
  },
  {
   "cell_type": "code",
   "execution_count": 27,
   "metadata": {},
   "outputs": [
    {
     "name": "stdout",
     "output_type": "stream",
     "text": [
      "T-Statistic: 14.721676481405709\n",
      "P-Value: 2.133687602018886e-28\n",
      "There is evidence of a significant difference in body mass between male and female Gentoo penguins.\n"
     ]
    }
   ],
   "source": [
    "# Importing necessary libraries\n",
    "import pandas as pd\n",
    "from scipy.stats import ttest_ind\n",
    "\n",
    "# Load the penguins dataset\n",
    "penguins_df = pd.read_csv('penguins.csv')\n",
    "\n",
    "# Filter data for Gentoo penguins\n",
    "gentoo_penguins = penguins_df[penguins_df['species'] == 'Gentoo']\n",
    "\n",
    "# Separate data for male and female Gentoo penguins\n",
    "male_body_mass = gentoo_penguins[gentoo_penguins['sex'] == 'MALE']['body_mass_g']\n",
    "female_body_mass = gentoo_penguins[gentoo_penguins['sex'] == 'FEMALE']['body_mass_g']\n",
    "\n",
    "# Perform independent two-sample t-test\n",
    "t_statistic, p_value = ttest_ind(male_body_mass, female_body_mass)\n",
    "\n",
    "# Display t-statistic and p-value\n",
    "print(f'T-Statistic: {t_statistic}')\n",
    "print(f'P-Value: {p_value}')\n",
    "\n",
    "# Check for statistical significance (common significance level is 0.05)\n",
    "if p_value < 0.05:\n",
    "    print('There is evidence of a significant difference in body mass between male and female Gentoo penguins.')\n",
    "else:\n",
    "    print('There is no significant difference in body mass between male and female Gentoo penguins.')\n",
    "\n",
    "\n"
   ]
  },
  {
   "cell_type": "markdown",
   "metadata": {},
   "source": [
    "-  **Understanding the Two-Sample T-Test:**\n",
    "\n",
    "  The two-sample t-test is a statistical method used to assess if there is a significant difference between the means of two independent groups. It is particularly useful when comparing means of numerical data from two distinct groups.\n",
    "\n",
    "  -  **Why Use the T-Test:**\n",
    "    - The t-test helps determine if observed differences between groups are statistically significant or could have occurred by chance.\n",
    "    - Commonly applied in scientific research and data analysis to assess group-level differences.\n",
    "\n",
    "  -  **Penguins Dataset T-Test Outcome:**\n",
    "    - In the penguins dataset, a two-sample t-test was conducted on the body mass of male and female Gentoo penguins.\n",
    "    - The resulting p-value was compared to a significance level (e.g., 0.05).\n",
    "    - If p < 0.05, it suggests a significant difference. The outcome indicates whether there is evidence of a significant difference in body mass between male and female Gentoo penguins.\n"
   ]
  }
 ],
 "metadata": {
  "kernelspec": {
   "display_name": "base",
   "language": "python",
   "name": "python3"
  },
  "language_info": {
   "codemirror_mode": {
    "name": "ipython",
    "version": 3
   },
   "file_extension": ".py",
   "mimetype": "text/x-python",
   "name": "python",
   "nbconvert_exporter": "python",
   "pygments_lexer": "ipython3",
   "version": "3.8.8"
  },
  "orig_nbformat": 4
 },
 "nbformat": 4,
 "nbformat_minor": 2
}
