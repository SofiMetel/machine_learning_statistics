{
 "cells": [
  {
   "cell_type": "markdown",
   "metadata": {},
   "source": [
    "# Project Machine Learning and Statistics\n",
    "\n",
    "Winter 2023/24\n",
    "\n",
    "Author: Sofiia Meteliuk"
   ]
  },
  {
   "cell_type": "markdown",
   "metadata": {},
   "source": [
    "The project is to create a notebook exploring classification algorithms applied on the iris flower data set associated with Ronald\n",
    "A Fisher.\n",
    "\n",
    "--------\n",
    "The Iris dataset is a famous dataset in machine learning and is often used for practicing classification algorithms. Ronald A. Fisher introduced this dataset in his 1936 paper \"The Use of Multiple Measurements in Taxonomic Problems.\""
   ]
  },
  {
   "cell_type": "markdown",
   "metadata": {},
   "source": [
    "• In your notebook, you should first explain what supervised learning is and then explain what classification algorithms are."
   ]
  },
  {
   "cell_type": "markdown",
   "metadata": {},
   "source": [
    "## Chapter 1:  Supervised Learning and Classification Algorithms"
   ]
  },
  {
   "cell_type": "code",
   "execution_count": null,
   "metadata": {},
   "outputs": [],
   "source": []
  }
 ],
 "metadata": {
  "language_info": {
   "name": "python"
  }
 },
 "nbformat": 4,
 "nbformat_minor": 2
}
